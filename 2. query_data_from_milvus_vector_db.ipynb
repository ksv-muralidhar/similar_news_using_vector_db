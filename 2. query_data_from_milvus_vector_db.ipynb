{
 "cells": [
  {
   "cell_type": "code",
   "execution_count": 1,
   "id": "c3ef6b89-2bc8-4e89-8576-28433de9e452",
   "metadata": {
    "tags": []
   },
   "outputs": [],
   "source": [
    "# ! pip install pymilvus==2.3.1"
   ]
  },
  {
   "cell_type": "code",
   "execution_count": 2,
   "id": "8e55f124-5f33-4639-95a8-41cb3e070224",
   "metadata": {
    "tags": []
   },
   "outputs": [],
   "source": [
    "from dotenv import load_dotenv\n",
    "import pandas as pd\n",
    "import os\n",
    "from pymilvus import connections, Collection, utility\n",
    "from sentence_transformers import SentenceTransformer"
   ]
  },
  {
   "cell_type": "markdown",
   "id": "84ae23a0-5f7d-4be1-922f-5b07cc3f13bd",
   "metadata": {
    "tags": []
   },
   "source": [
    "### Vectorization using Sentence transformers"
   ]
  },
  {
   "cell_type": "code",
   "execution_count": 3,
   "id": "7b456d38-17e2-4e90-89bc-c7ece765af38",
   "metadata": {
    "tags": []
   },
   "outputs": [],
   "source": [
    "class TextVectorizer:\n",
    "    '''\n",
    "    sentence transformers to extract sentence embeddings\n",
    "    '''\n",
    "    def vectorize(self, x: pd.Series, dataset: str = \"train\"):\n",
    "        x = x.copy()\n",
    "        model = SentenceTransformer('bert-base-nli-mean-tokens')\n",
    "        sen_embeddings = model.encode(x)\n",
    "        return sen_embeddings"
   ]
  },
  {
   "cell_type": "code",
   "execution_count": 4,
   "id": "82f22f09-7f2e-4393-919f-2a2731071bf3",
   "metadata": {
    "tags": []
   },
   "outputs": [],
   "source": [
    "vectorizer = TextVectorizer()"
   ]
  },
  {
   "cell_type": "code",
   "execution_count": 5,
   "id": "bd541a58-100d-40fe-b029-b87d930752e8",
   "metadata": {
    "tags": []
   },
   "outputs": [],
   "source": [
    "# Reading milvus URI & API token From secrets.env\n",
    "load_dotenv('secrets.env')\n",
    "uri = os.environ.get(\"URI\")\n",
    "token = os.environ.get(\"TOKEN\")"
   ]
  },
  {
   "cell_type": "code",
   "execution_count": 6,
   "id": "8a7c7895-9fa0-473b-b3f6-bec05c77b46b",
   "metadata": {
    "tags": []
   },
   "outputs": [
    {
     "name": "stdout",
     "output_type": "stream",
     "text": [
      "Connected to DB\n"
     ]
    }
   ],
   "source": [
    "# connecting to db\n",
    "connections.connect(\"default\", uri=uri, token=token)\n",
    "print(f\"Connected to DB\")"
   ]
  },
  {
   "cell_type": "code",
   "execution_count": 7,
   "id": "89524bdf-bf0e-4cbb-ac47-1d867780762f",
   "metadata": {
    "tags": []
   },
   "outputs": [
    {
     "data": {
      "text/plain": [
       "True"
      ]
     },
     "execution_count": 7,
     "metadata": {},
     "output_type": "execute_result"
    }
   ],
   "source": [
    "collection_name = os.environ.get(\"COLLECTION_NAME\")\n",
    "check_collection = utility.has_collection(collection_name)\n",
    "check_collection # checks if collection exisits"
   ]
  },
  {
   "cell_type": "code",
   "execution_count": 8,
   "id": "78b1663b-675b-4c09-a50f-b7d0fb40e06b",
   "metadata": {
    "tags": []
   },
   "outputs": [],
   "source": [
    "# load the collection before querying\n",
    "collection = Collection(name=collection_name)\n",
    "collection.load()"
   ]
  },
  {
   "cell_type": "code",
   "execution_count": 9,
   "id": "f86dfac6-aeb6-440a-9a6c-5fbdedd4782e",
   "metadata": {
    "tags": []
   },
   "outputs": [],
   "source": [
    "def find_similar_news(text: str, top_n: int=3):\n",
    "    search_params = {\"metric_type\": \"L2\"}\n",
    "    search_vec = vectorizer.vectorize([text])\n",
    "    result = collection.search(search_vec,\n",
    "                                anns_field='article_embed', # annotations field specified in the schema definition\n",
    "                                param=search_params,\n",
    "                                limit=top_n,\n",
    "                                guarantee_timestamp=1, \n",
    "                                output_fields=['article_desc']) # which fields to return in output\n",
    "    \n",
    "    output_dict = {\"input_text\": text, \"similar_texts\": [hit.entity.get('article_desc') for hits in result for hit in hits]} \n",
    "    similar_txt = '\\n\\n'.join(output_dict.get('similar_texts'))\n",
    "    print(f\"INPUT\\n{'-'*5}{text}\\n\\nSIMILAR NEWS\\n{'-'*12}\\n{similar_txt}\")\n",
    "    return output_dict"
   ]
  },
  {
   "cell_type": "code",
   "execution_count": 10,
   "id": "15479489-924e-49ed-ba0c-06366170fe10",
   "metadata": {
    "tags": []
   },
   "outputs": [
    {
     "name": "stdout",
     "output_type": "stream",
     "text": [
      "INPUT\n",
      "-----\n",
      "Formula E nominated for BBC Green Sport Award. \n",
      "The ABB FIA Formula E World Championship has been nominated by a BBC panel for its Green Sport Awards, which celebrate the good news\n",
      "\n",
      "\n",
      "SIMILAR NEWS\n",
      "------------\n",
      "FIFA has come under pressure from several European soccer federations who want to support a human rights campaign against discrimination at the World Cup.\n"
     ]
    }
   ],
   "source": [
    "text = '''\n",
    "Formula E nominated for BBC Green Sport Award. \n",
    "The ABB FIA Formula E World Championship has been nominated by a BBC panel for its Green Sport Awards, which celebrate the good news\n",
    "'''\n",
    "\n",
    "_ = find_similar_news(text, top_n=1)"
   ]
  },
  {
   "cell_type": "code",
   "execution_count": 11,
   "id": "24367e0f-0895-4f32-b1e3-5d929a0aa53d",
   "metadata": {
    "tags": []
   },
   "outputs": [
    {
     "name": "stdout",
     "output_type": "stream",
     "text": [
      "INPUT\n",
      "-----\n",
      "Lib Dem conference: Ed Davey pounds Tories in election warm-up speech\n",
      "Sir Ed Davey makes it clear who the Lib Dems are targeting at the general election - but will it work?\n",
      "\n",
      "\n",
      "SIMILAR NEWS\n",
      "------------\n",
      "The state's general treasurer is slated to face former Cranston Mayor Allan Fung (R) in the general election.\n"
     ]
    }
   ],
   "source": [
    "text = '''\n",
    "Lib Dem conference: Ed Davey pounds Tories in election warm-up speech\n",
    "Sir Ed Davey makes it clear who the Lib Dems are targeting at the general election - but will it work?\n",
    "'''\n",
    "\n",
    "_ = find_similar_news(text, top_n=1)"
   ]
  },
  {
   "cell_type": "code",
   "execution_count": null,
   "id": "a7efe975-01bc-465d-a3ca-2506ce7e7445",
   "metadata": {},
   "outputs": [],
   "source": []
  }
 ],
 "metadata": {
  "kernelspec": {
   "display_name": "Python 3 (ipykernel)",
   "language": "python",
   "name": "python3"
  },
  "language_info": {
   "codemirror_mode": {
    "name": "ipython",
    "version": 3
   },
   "file_extension": ".py",
   "mimetype": "text/x-python",
   "name": "python",
   "nbconvert_exporter": "python",
   "pygments_lexer": "ipython3",
   "version": "3.11.4"
  }
 },
 "nbformat": 4,
 "nbformat_minor": 5
}
