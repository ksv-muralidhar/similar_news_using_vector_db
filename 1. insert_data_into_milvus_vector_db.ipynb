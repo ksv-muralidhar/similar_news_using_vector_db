{
 "cells": [
  {
   "cell_type": "code",
   "execution_count": 1,
   "id": "c3ef6b89-2bc8-4e89-8576-28433de9e452",
   "metadata": {
    "tags": []
   },
   "outputs": [],
   "source": [
    "# ! pip install pymilvus==2.3.1"
   ]
  },
  {
   "cell_type": "code",
   "execution_count": 2,
   "id": "8e55f124-5f33-4639-95a8-41cb3e070224",
   "metadata": {
    "tags": []
   },
   "outputs": [],
   "source": [
    "import pandas as pd\n",
    "import numpy as np\n",
    "from tqdm import tqdm\n",
    "from dotenv import load_dotenv\n",
    "import os\n",
    "from pymilvus import connections, utility\n",
    "from pymilvus import Collection, DataType, FieldSchema, CollectionSchema\n",
    "from sentence_transformers import SentenceTransformer"
   ]
  },
  {
   "cell_type": "markdown",
   "id": "f250f84f-df6c-4c79-afaa-b70ac8a9e28e",
   "metadata": {},
   "source": [
    "### Read news_articles JSON"
   ]
  },
  {
   "cell_type": "code",
   "execution_count": 3,
   "id": "88af7796-4235-4e04-bbf8-ce4ab006f2db",
   "metadata": {
    "tags": []
   },
   "outputs": [
    {
     "data": {
      "text/html": [
       "<div>\n",
       "<style scoped>\n",
       "    .dataframe tbody tr th:only-of-type {\n",
       "        vertical-align: middle;\n",
       "    }\n",
       "\n",
       "    .dataframe tbody tr th {\n",
       "        vertical-align: top;\n",
       "    }\n",
       "\n",
       "    .dataframe thead th {\n",
       "        text-align: right;\n",
       "    }\n",
       "</style>\n",
       "<table border=\"1\" class=\"dataframe\">\n",
       "  <thead>\n",
       "    <tr style=\"text-align: right;\">\n",
       "      <th></th>\n",
       "      <th>index</th>\n",
       "      <th>short_description</th>\n",
       "    </tr>\n",
       "  </thead>\n",
       "  <tbody>\n",
       "    <tr>\n",
       "      <th>0</th>\n",
       "      <td>0</td>\n",
       "      <td>Health experts said it is too early to predict...</td>\n",
       "    </tr>\n",
       "    <tr>\n",
       "      <th>1</th>\n",
       "      <td>1</td>\n",
       "      <td>He was subdued by passengers and crew when he ...</td>\n",
       "    </tr>\n",
       "    <tr>\n",
       "      <th>2</th>\n",
       "      <td>2</td>\n",
       "      <td>\"Until you have a dog you don't understand wha...</td>\n",
       "    </tr>\n",
       "    <tr>\n",
       "      <th>3</th>\n",
       "      <td>3</td>\n",
       "      <td>\"Accidentally put grown-up toothpaste on my to...</td>\n",
       "    </tr>\n",
       "    <tr>\n",
       "      <th>4</th>\n",
       "      <td>4</td>\n",
       "      <td>Amy Cooper accused investment firm Franklin Te...</td>\n",
       "    </tr>\n",
       "    <tr>\n",
       "      <th>...</th>\n",
       "      <td>...</td>\n",
       "      <td>...</td>\n",
       "    </tr>\n",
       "    <tr>\n",
       "      <th>195</th>\n",
       "      <td>195</td>\n",
       "      <td>Concerned your chest pain might be heart-relat...</td>\n",
       "    </tr>\n",
       "    <tr>\n",
       "      <th>196</th>\n",
       "      <td>196</td>\n",
       "      <td>The Senate GOP leader cited \"candidate quality...</td>\n",
       "    </tr>\n",
       "    <tr>\n",
       "      <th>197</th>\n",
       "      <td>197</td>\n",
       "      <td>Bryant's widow testified that she \"lives in fe...</td>\n",
       "    </tr>\n",
       "    <tr>\n",
       "      <th>198</th>\n",
       "      <td>198</td>\n",
       "      <td>Young Thug, along with rapper Gunna, are one o...</td>\n",
       "    </tr>\n",
       "    <tr>\n",
       "      <th>199</th>\n",
       "      <td>199</td>\n",
       "      <td>\"The matter is one of utmost public interest, ...</td>\n",
       "    </tr>\n",
       "  </tbody>\n",
       "</table>\n",
       "<p>200 rows × 2 columns</p>\n",
       "</div>"
      ],
      "text/plain": [
       "     index                                  short_description\n",
       "0        0  Health experts said it is too early to predict...\n",
       "1        1  He was subdued by passengers and crew when he ...\n",
       "2        2  \"Until you have a dog you don't understand wha...\n",
       "3        3  \"Accidentally put grown-up toothpaste on my to...\n",
       "4        4  Amy Cooper accused investment firm Franklin Te...\n",
       "..     ...                                                ...\n",
       "195    195  Concerned your chest pain might be heart-relat...\n",
       "196    196  The Senate GOP leader cited \"candidate quality...\n",
       "197    197  Bryant's widow testified that she \"lives in fe...\n",
       "198    198  Young Thug, along with rapper Gunna, are one o...\n",
       "199    199  \"The matter is one of utmost public interest, ...\n",
       "\n",
       "[200 rows x 2 columns]"
      ]
     },
     "execution_count": 3,
     "metadata": {},
     "output_type": "execute_result"
    }
   ],
   "source": [
    "data = pd.read_json(\"News_Category_Dataset_v3.json\", lines=True, nrows=200) # loading 200 news articles\n",
    "data = data[['short_description']].copy()\n",
    "data.reset_index(inplace=True)\n",
    "data"
   ]
  },
  {
   "cell_type": "markdown",
   "id": "84ae23a0-5f7d-4be1-922f-5b07cc3f13bd",
   "metadata": {
    "tags": []
   },
   "source": [
    "### Vectorization using Sentence transformers"
   ]
  },
  {
   "cell_type": "code",
   "execution_count": 4,
   "id": "7b456d38-17e2-4e90-89bc-c7ece765af38",
   "metadata": {
    "tags": []
   },
   "outputs": [],
   "source": [
    "class TextVectorizer:\n",
    "    '''\n",
    "    sentence transformers to extract sentence embeddings\n",
    "    '''\n",
    "    def vectorize(self, x: pd.Series, dataset: str = \"train\"):\n",
    "        x = x.copy()\n",
    "        model = SentenceTransformer('bert-base-nli-mean-tokens')\n",
    "        sen_embeddings = model.encode(x)\n",
    "        return sen_embeddings"
   ]
  },
  {
   "cell_type": "code",
   "execution_count": 5,
   "id": "82f22f09-7f2e-4393-919f-2a2731071bf3",
   "metadata": {
    "tags": []
   },
   "outputs": [],
   "source": [
    "vectorizer = TextVectorizer()"
   ]
  },
  {
   "cell_type": "code",
   "execution_count": 6,
   "id": "1b0d1853-51bd-4c76-89dc-f10e734741e7",
   "metadata": {
    "tags": []
   },
   "outputs": [
    {
     "data": {
      "text/plain": [
       "245"
      ]
     },
     "execution_count": 6,
     "metadata": {},
     "output_type": "execute_result"
    }
   ],
   "source": [
    "# getting max length of article descriptions to be used for VARCHAR while defining schema\n",
    "max_desc_len = max([len(s) for s in data['short_description']])\n",
    "max_desc_len"
   ]
  },
  {
   "cell_type": "code",
   "execution_count": 7,
   "id": "bd541a58-100d-40fe-b029-b87d930752e8",
   "metadata": {
    "tags": []
   },
   "outputs": [],
   "source": [
    "# Reading milvus URI & API token from secrets.env\n",
    "load_dotenv('secrets.env')\n",
    "uri = os.environ.get(\"URI\")\n",
    "token = os.environ.get(\"TOKEN\")"
   ]
  },
  {
   "cell_type": "code",
   "execution_count": 8,
   "id": "8a7c7895-9fa0-473b-b3f6-bec05c77b46b",
   "metadata": {
    "tags": []
   },
   "outputs": [
    {
     "name": "stdout",
     "output_type": "stream",
     "text": [
      "Connected to DB\n"
     ]
    }
   ],
   "source": [
    "# connecting to db\n",
    "connections.connect(\"default\", uri=uri, token=token)\n",
    "print(f\"Connected to DB\")"
   ]
  },
  {
   "cell_type": "code",
   "execution_count": 9,
   "id": "55c26ebe-f357-41f4-92af-edc3db342738",
   "metadata": {
    "tags": []
   },
   "outputs": [],
   "source": [
    "collection_name = os.environ.get(\"COLLECTION_NAME\")\n",
    "check_collection = utility.has_collection(collection_name)"
   ]
  },
  {
   "cell_type": "code",
   "execution_count": 10,
   "id": "16723db6-823b-4666-a84f-b4a870caa619",
   "metadata": {
    "tags": []
   },
   "outputs": [
    {
     "name": "stdout",
     "output_type": "stream",
     "text": [
      "Droped Existing collection\n"
     ]
    }
   ],
   "source": [
    "if check_collection:\n",
    "    drop_result = utility.drop_collection(collection_name)\n",
    "    print(\"Droped Existing collection\")"
   ]
  },
  {
   "cell_type": "code",
   "execution_count": 11,
   "id": "d44a7c74-aa9f-42aa-8ff7-694bf7b9b50d",
   "metadata": {
    "tags": []
   },
   "outputs": [
    {
     "name": "stdout",
     "output_type": "stream",
     "text": [
      "Creating the collection\n",
      "Schema: {'auto_id': False, 'description': 'collection of news articles', 'fields': [{'name': 'article_id', 'description': 'primary id', 'type': <DataType.INT64: 5>, 'is_primary': True, 'auto_id': False}, {'name': 'article_embed', 'description': '', 'type': <DataType.FLOAT_VECTOR: 101>, 'params': {'dim': 768}}, {'name': 'article_desc', 'description': 'short description of the article', 'type': <DataType.VARCHAR: 21>, 'params': {'max_length': 295}}]}\n",
      "Success!\n"
     ]
    }
   ],
   "source": [
    "# Creating collection schema\n",
    "dim = 768 # embeddings dim\n",
    "article_id = FieldSchema(name=\"article_id\", dtype=DataType.INT64, is_primary=True, description=\"primary id\") # primary key\n",
    "article_embed_field = FieldSchema(name=\"article_embed\", dtype=DataType.FLOAT_VECTOR, dim=dim) # description embeddings\n",
    "article_desc = FieldSchema(name=\"article_desc\", dtype=DataType.VARCHAR, max_length=(max_desc_len + 50), # using max_desc_len to specify VARCHAR len \n",
    "                           is_primary=False, description=\"short description of the article\") # short description of article\n",
    "schema = CollectionSchema(fields=[article_id, article_embed_field, article_desc], \n",
    "                          auto_id=False, description=\"collection of news articles\")\n",
    "print(f\"Creating the collection\")\n",
    "collection = Collection(name=collection_name, schema=schema)\n",
    "print(f\"Schema: {schema}\")\n",
    "print(\"Success!\")"
   ]
  },
  {
   "cell_type": "code",
   "execution_count": 12,
   "id": "7936d9eb-2713-451f-b845-04000379b341",
   "metadata": {
    "tags": []
   },
   "outputs": [
    {
     "name": "stderr",
     "output_type": "stream",
     "text": [
      "100%|██████████| 200/200 [03:25<00:00,  1.03s/it]\n"
     ]
    }
   ],
   "source": [
    "# Preparing data to load\n",
    "article_id = []\n",
    "article_desc = []\n",
    "article_embed = []\n",
    "for i in tqdm(range(len(data))):\n",
    "    article_id.append(data['index'][i])\n",
    "    article_desc.append(data['short_description'][i])\n",
    "    article_embed.append(vectorizer.vectorize([data['short_description'][i]])[0])\n",
    "docs = [article_id, article_embed, article_desc]"
   ]
  },
  {
   "cell_type": "code",
   "execution_count": 13,
   "id": "b97eef21-85bd-40e4-af85-8b26640a239a",
   "metadata": {
    "tags": []
   },
   "outputs": [
    {
     "data": {
      "text/plain": [
       "(insert count: 200, delete count: 0, upsert count: 0, timestamp: 444532761385500674, success count: 200, err count: 0)"
      ]
     },
     "execution_count": 13,
     "metadata": {},
     "output_type": "execute_result"
    }
   ],
   "source": [
    "# insert documents into collection\n",
    "ins_resp = collection.insert(docs)\n",
    "ins_resp # insert result"
   ]
  },
  {
   "cell_type": "code",
   "execution_count": 14,
   "id": "af6b4eed-ca9c-4332-b502-0f4524406434",
   "metadata": {
    "tags": []
   },
   "outputs": [
    {
     "name": "stderr",
     "output_type": "stream",
     "text": [
      "alloc_timestamp unimplemented, ignore it\n"
     ]
    },
    {
     "data": {
      "text/plain": [
       "Status(code=0, message=)"
      ]
     },
     "execution_count": 14,
     "metadata": {},
     "output_type": "execute_result"
    }
   ],
   "source": [
    "# creating index on embeddings field (article_embed)\n",
    "# metric type: L2 (euclidean dist). supported: [L2 IP]\n",
    "index_params = {\"index_type\": \"AUTOINDEX\", \"metric_type\": \"L2\", \"params\": {}} \n",
    "collection.create_index(field_name='article_embed', index_params=index_params)"
   ]
  },
  {
   "cell_type": "code",
   "execution_count": null,
   "id": "faa212a0-9057-400f-8a4f-16054f5b66af",
   "metadata": {},
   "outputs": [],
   "source": []
  }
 ],
 "metadata": {
  "kernelspec": {
   "display_name": "Python 3 (ipykernel)",
   "language": "python",
   "name": "python3"
  },
  "language_info": {
   "codemirror_mode": {
    "name": "ipython",
    "version": 3
   },
   "file_extension": ".py",
   "mimetype": "text/x-python",
   "name": "python",
   "nbconvert_exporter": "python",
   "pygments_lexer": "ipython3",
   "version": "3.11.4"
  }
 },
 "nbformat": 4,
 "nbformat_minor": 5
}
